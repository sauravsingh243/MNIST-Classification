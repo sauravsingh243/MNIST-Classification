{
  "nbformat": 4,
  "nbformat_minor": 0,
  "metadata": {
    "colab": {
      "name": "Ques2_HW5.ipynb",
      "provenance": [],
      "collapsed_sections": []
    },
    "kernelspec": {
      "name": "python3",
      "display_name": "Python 3"
    },
    "language_info": {
      "name": "python"
    },
    "widgets": {
      "application/vnd.jupyter.widget-state+json": {
        "1850929c983c4c2da310ab30e8de0787": {
          "model_module": "@jupyter-widgets/controls",
          "model_name": "HBoxModel",
          "model_module_version": "1.5.0",
          "state": {
            "_dom_classes": [],
            "_model_module": "@jupyter-widgets/controls",
            "_model_module_version": "1.5.0",
            "_model_name": "HBoxModel",
            "_view_count": null,
            "_view_module": "@jupyter-widgets/controls",
            "_view_module_version": "1.5.0",
            "_view_name": "HBoxView",
            "box_style": "",
            "children": [
              "IPY_MODEL_2c178f4dfdf340b9aa5d05331aa3b6eb",
              "IPY_MODEL_0052d6b6ac094512a7c228ecdab443d8",
              "IPY_MODEL_ee24fb80a55f48a4904afc28ead8ec33"
            ],
            "layout": "IPY_MODEL_b0f2ebdac6c74a039350e65b998ca10f"
          }
        },
        "2c178f4dfdf340b9aa5d05331aa3b6eb": {
          "model_module": "@jupyter-widgets/controls",
          "model_name": "HTMLModel",
          "model_module_version": "1.5.0",
          "state": {
            "_dom_classes": [],
            "_model_module": "@jupyter-widgets/controls",
            "_model_module_version": "1.5.0",
            "_model_name": "HTMLModel",
            "_view_count": null,
            "_view_module": "@jupyter-widgets/controls",
            "_view_module_version": "1.5.0",
            "_view_name": "HTMLView",
            "description": "",
            "description_tooltip": null,
            "layout": "IPY_MODEL_0cb97b8363bd4997bdecd09906b92dcf",
            "placeholder": "​",
            "style": "IPY_MODEL_0c365a86e565457b9e78af0815079ce9",
            "value": ""
          }
        },
        "0052d6b6ac094512a7c228ecdab443d8": {
          "model_module": "@jupyter-widgets/controls",
          "model_name": "FloatProgressModel",
          "model_module_version": "1.5.0",
          "state": {
            "_dom_classes": [],
            "_model_module": "@jupyter-widgets/controls",
            "_model_module_version": "1.5.0",
            "_model_name": "FloatProgressModel",
            "_view_count": null,
            "_view_module": "@jupyter-widgets/controls",
            "_view_module_version": "1.5.0",
            "_view_name": "ProgressView",
            "bar_style": "success",
            "description": "",
            "description_tooltip": null,
            "layout": "IPY_MODEL_4563a53b3c1f44df91db9f813902563b",
            "max": 9912422,
            "min": 0,
            "orientation": "horizontal",
            "style": "IPY_MODEL_b49c7c06c2a049ff9c66fcf9dfd25da4",
            "value": 9912422
          }
        },
        "ee24fb80a55f48a4904afc28ead8ec33": {
          "model_module": "@jupyter-widgets/controls",
          "model_name": "HTMLModel",
          "model_module_version": "1.5.0",
          "state": {
            "_dom_classes": [],
            "_model_module": "@jupyter-widgets/controls",
            "_model_module_version": "1.5.0",
            "_model_name": "HTMLModel",
            "_view_count": null,
            "_view_module": "@jupyter-widgets/controls",
            "_view_module_version": "1.5.0",
            "_view_name": "HTMLView",
            "description": "",
            "description_tooltip": null,
            "layout": "IPY_MODEL_401508334c904c5a954514cc3fac5bca",
            "placeholder": "​",
            "style": "IPY_MODEL_297f313141ab4222bf98009e9ace34d5",
            "value": " 9913344/? [00:00&lt;00:00, 22652125.24it/s]"
          }
        },
        "b0f2ebdac6c74a039350e65b998ca10f": {
          "model_module": "@jupyter-widgets/base",
          "model_name": "LayoutModel",
          "model_module_version": "1.2.0",
          "state": {
            "_model_module": "@jupyter-widgets/base",
            "_model_module_version": "1.2.0",
            "_model_name": "LayoutModel",
            "_view_count": null,
            "_view_module": "@jupyter-widgets/base",
            "_view_module_version": "1.2.0",
            "_view_name": "LayoutView",
            "align_content": null,
            "align_items": null,
            "align_self": null,
            "border": null,
            "bottom": null,
            "display": null,
            "flex": null,
            "flex_flow": null,
            "grid_area": null,
            "grid_auto_columns": null,
            "grid_auto_flow": null,
            "grid_auto_rows": null,
            "grid_column": null,
            "grid_gap": null,
            "grid_row": null,
            "grid_template_areas": null,
            "grid_template_columns": null,
            "grid_template_rows": null,
            "height": null,
            "justify_content": null,
            "justify_items": null,
            "left": null,
            "margin": null,
            "max_height": null,
            "max_width": null,
            "min_height": null,
            "min_width": null,
            "object_fit": null,
            "object_position": null,
            "order": null,
            "overflow": null,
            "overflow_x": null,
            "overflow_y": null,
            "padding": null,
            "right": null,
            "top": null,
            "visibility": null,
            "width": null
          }
        },
        "0cb97b8363bd4997bdecd09906b92dcf": {
          "model_module": "@jupyter-widgets/base",
          "model_name": "LayoutModel",
          "model_module_version": "1.2.0",
          "state": {
            "_model_module": "@jupyter-widgets/base",
            "_model_module_version": "1.2.0",
            "_model_name": "LayoutModel",
            "_view_count": null,
            "_view_module": "@jupyter-widgets/base",
            "_view_module_version": "1.2.0",
            "_view_name": "LayoutView",
            "align_content": null,
            "align_items": null,
            "align_self": null,
            "border": null,
            "bottom": null,
            "display": null,
            "flex": null,
            "flex_flow": null,
            "grid_area": null,
            "grid_auto_columns": null,
            "grid_auto_flow": null,
            "grid_auto_rows": null,
            "grid_column": null,
            "grid_gap": null,
            "grid_row": null,
            "grid_template_areas": null,
            "grid_template_columns": null,
            "grid_template_rows": null,
            "height": null,
            "justify_content": null,
            "justify_items": null,
            "left": null,
            "margin": null,
            "max_height": null,
            "max_width": null,
            "min_height": null,
            "min_width": null,
            "object_fit": null,
            "object_position": null,
            "order": null,
            "overflow": null,
            "overflow_x": null,
            "overflow_y": null,
            "padding": null,
            "right": null,
            "top": null,
            "visibility": null,
            "width": null
          }
        },
        "0c365a86e565457b9e78af0815079ce9": {
          "model_module": "@jupyter-widgets/controls",
          "model_name": "DescriptionStyleModel",
          "model_module_version": "1.5.0",
          "state": {
            "_model_module": "@jupyter-widgets/controls",
            "_model_module_version": "1.5.0",
            "_model_name": "DescriptionStyleModel",
            "_view_count": null,
            "_view_module": "@jupyter-widgets/base",
            "_view_module_version": "1.2.0",
            "_view_name": "StyleView",
            "description_width": ""
          }
        },
        "4563a53b3c1f44df91db9f813902563b": {
          "model_module": "@jupyter-widgets/base",
          "model_name": "LayoutModel",
          "model_module_version": "1.2.0",
          "state": {
            "_model_module": "@jupyter-widgets/base",
            "_model_module_version": "1.2.0",
            "_model_name": "LayoutModel",
            "_view_count": null,
            "_view_module": "@jupyter-widgets/base",
            "_view_module_version": "1.2.0",
            "_view_name": "LayoutView",
            "align_content": null,
            "align_items": null,
            "align_self": null,
            "border": null,
            "bottom": null,
            "display": null,
            "flex": null,
            "flex_flow": null,
            "grid_area": null,
            "grid_auto_columns": null,
            "grid_auto_flow": null,
            "grid_auto_rows": null,
            "grid_column": null,
            "grid_gap": null,
            "grid_row": null,
            "grid_template_areas": null,
            "grid_template_columns": null,
            "grid_template_rows": null,
            "height": null,
            "justify_content": null,
            "justify_items": null,
            "left": null,
            "margin": null,
            "max_height": null,
            "max_width": null,
            "min_height": null,
            "min_width": null,
            "object_fit": null,
            "object_position": null,
            "order": null,
            "overflow": null,
            "overflow_x": null,
            "overflow_y": null,
            "padding": null,
            "right": null,
            "top": null,
            "visibility": null,
            "width": null
          }
        },
        "b49c7c06c2a049ff9c66fcf9dfd25da4": {
          "model_module": "@jupyter-widgets/controls",
          "model_name": "ProgressStyleModel",
          "model_module_version": "1.5.0",
          "state": {
            "_model_module": "@jupyter-widgets/controls",
            "_model_module_version": "1.5.0",
            "_model_name": "ProgressStyleModel",
            "_view_count": null,
            "_view_module": "@jupyter-widgets/base",
            "_view_module_version": "1.2.0",
            "_view_name": "StyleView",
            "bar_color": null,
            "description_width": ""
          }
        },
        "401508334c904c5a954514cc3fac5bca": {
          "model_module": "@jupyter-widgets/base",
          "model_name": "LayoutModel",
          "model_module_version": "1.2.0",
          "state": {
            "_model_module": "@jupyter-widgets/base",
            "_model_module_version": "1.2.0",
            "_model_name": "LayoutModel",
            "_view_count": null,
            "_view_module": "@jupyter-widgets/base",
            "_view_module_version": "1.2.0",
            "_view_name": "LayoutView",
            "align_content": null,
            "align_items": null,
            "align_self": null,
            "border": null,
            "bottom": null,
            "display": null,
            "flex": null,
            "flex_flow": null,
            "grid_area": null,
            "grid_auto_columns": null,
            "grid_auto_flow": null,
            "grid_auto_rows": null,
            "grid_column": null,
            "grid_gap": null,
            "grid_row": null,
            "grid_template_areas": null,
            "grid_template_columns": null,
            "grid_template_rows": null,
            "height": null,
            "justify_content": null,
            "justify_items": null,
            "left": null,
            "margin": null,
            "max_height": null,
            "max_width": null,
            "min_height": null,
            "min_width": null,
            "object_fit": null,
            "object_position": null,
            "order": null,
            "overflow": null,
            "overflow_x": null,
            "overflow_y": null,
            "padding": null,
            "right": null,
            "top": null,
            "visibility": null,
            "width": null
          }
        },
        "297f313141ab4222bf98009e9ace34d5": {
          "model_module": "@jupyter-widgets/controls",
          "model_name": "DescriptionStyleModel",
          "model_module_version": "1.5.0",
          "state": {
            "_model_module": "@jupyter-widgets/controls",
            "_model_module_version": "1.5.0",
            "_model_name": "DescriptionStyleModel",
            "_view_count": null,
            "_view_module": "@jupyter-widgets/base",
            "_view_module_version": "1.2.0",
            "_view_name": "StyleView",
            "description_width": ""
          }
        },
        "1786272854b541e6a4d06613a30d264e": {
          "model_module": "@jupyter-widgets/controls",
          "model_name": "HBoxModel",
          "model_module_version": "1.5.0",
          "state": {
            "_dom_classes": [],
            "_model_module": "@jupyter-widgets/controls",
            "_model_module_version": "1.5.0",
            "_model_name": "HBoxModel",
            "_view_count": null,
            "_view_module": "@jupyter-widgets/controls",
            "_view_module_version": "1.5.0",
            "_view_name": "HBoxView",
            "box_style": "",
            "children": [
              "IPY_MODEL_29e25e29c5864c8ea52d8e13b0ffdc66",
              "IPY_MODEL_12c93090d7464b9da155e4601ca67448",
              "IPY_MODEL_3ee434857ef24c85902e6c4bf357b1d6"
            ],
            "layout": "IPY_MODEL_f4fcaea272154ff3beafaee8964b6802"
          }
        },
        "29e25e29c5864c8ea52d8e13b0ffdc66": {
          "model_module": "@jupyter-widgets/controls",
          "model_name": "HTMLModel",
          "model_module_version": "1.5.0",
          "state": {
            "_dom_classes": [],
            "_model_module": "@jupyter-widgets/controls",
            "_model_module_version": "1.5.0",
            "_model_name": "HTMLModel",
            "_view_count": null,
            "_view_module": "@jupyter-widgets/controls",
            "_view_module_version": "1.5.0",
            "_view_name": "HTMLView",
            "description": "",
            "description_tooltip": null,
            "layout": "IPY_MODEL_4cca9c76c5ff4e399c6d1b70ddf28b0f",
            "placeholder": "​",
            "style": "IPY_MODEL_34a46fcac8494df48090e32d140acc09",
            "value": ""
          }
        },
        "12c93090d7464b9da155e4601ca67448": {
          "model_module": "@jupyter-widgets/controls",
          "model_name": "FloatProgressModel",
          "model_module_version": "1.5.0",
          "state": {
            "_dom_classes": [],
            "_model_module": "@jupyter-widgets/controls",
            "_model_module_version": "1.5.0",
            "_model_name": "FloatProgressModel",
            "_view_count": null,
            "_view_module": "@jupyter-widgets/controls",
            "_view_module_version": "1.5.0",
            "_view_name": "ProgressView",
            "bar_style": "success",
            "description": "",
            "description_tooltip": null,
            "layout": "IPY_MODEL_9a45a9a48314406684e0422ed1ee39b8",
            "max": 28881,
            "min": 0,
            "orientation": "horizontal",
            "style": "IPY_MODEL_778c3d00ba0b4647807230034df17188",
            "value": 28881
          }
        },
        "3ee434857ef24c85902e6c4bf357b1d6": {
          "model_module": "@jupyter-widgets/controls",
          "model_name": "HTMLModel",
          "model_module_version": "1.5.0",
          "state": {
            "_dom_classes": [],
            "_model_module": "@jupyter-widgets/controls",
            "_model_module_version": "1.5.0",
            "_model_name": "HTMLModel",
            "_view_count": null,
            "_view_module": "@jupyter-widgets/controls",
            "_view_module_version": "1.5.0",
            "_view_name": "HTMLView",
            "description": "",
            "description_tooltip": null,
            "layout": "IPY_MODEL_5563139002394fcb85124cb688de9dcc",
            "placeholder": "​",
            "style": "IPY_MODEL_0fd3a1cf4b234352897e5ce758a309bf",
            "value": " 29696/? [00:00&lt;00:00, 504862.21it/s]"
          }
        },
        "f4fcaea272154ff3beafaee8964b6802": {
          "model_module": "@jupyter-widgets/base",
          "model_name": "LayoutModel",
          "model_module_version": "1.2.0",
          "state": {
            "_model_module": "@jupyter-widgets/base",
            "_model_module_version": "1.2.0",
            "_model_name": "LayoutModel",
            "_view_count": null,
            "_view_module": "@jupyter-widgets/base",
            "_view_module_version": "1.2.0",
            "_view_name": "LayoutView",
            "align_content": null,
            "align_items": null,
            "align_self": null,
            "border": null,
            "bottom": null,
            "display": null,
            "flex": null,
            "flex_flow": null,
            "grid_area": null,
            "grid_auto_columns": null,
            "grid_auto_flow": null,
            "grid_auto_rows": null,
            "grid_column": null,
            "grid_gap": null,
            "grid_row": null,
            "grid_template_areas": null,
            "grid_template_columns": null,
            "grid_template_rows": null,
            "height": null,
            "justify_content": null,
            "justify_items": null,
            "left": null,
            "margin": null,
            "max_height": null,
            "max_width": null,
            "min_height": null,
            "min_width": null,
            "object_fit": null,
            "object_position": null,
            "order": null,
            "overflow": null,
            "overflow_x": null,
            "overflow_y": null,
            "padding": null,
            "right": null,
            "top": null,
            "visibility": null,
            "width": null
          }
        },
        "4cca9c76c5ff4e399c6d1b70ddf28b0f": {
          "model_module": "@jupyter-widgets/base",
          "model_name": "LayoutModel",
          "model_module_version": "1.2.0",
          "state": {
            "_model_module": "@jupyter-widgets/base",
            "_model_module_version": "1.2.0",
            "_model_name": "LayoutModel",
            "_view_count": null,
            "_view_module": "@jupyter-widgets/base",
            "_view_module_version": "1.2.0",
            "_view_name": "LayoutView",
            "align_content": null,
            "align_items": null,
            "align_self": null,
            "border": null,
            "bottom": null,
            "display": null,
            "flex": null,
            "flex_flow": null,
            "grid_area": null,
            "grid_auto_columns": null,
            "grid_auto_flow": null,
            "grid_auto_rows": null,
            "grid_column": null,
            "grid_gap": null,
            "grid_row": null,
            "grid_template_areas": null,
            "grid_template_columns": null,
            "grid_template_rows": null,
            "height": null,
            "justify_content": null,
            "justify_items": null,
            "left": null,
            "margin": null,
            "max_height": null,
            "max_width": null,
            "min_height": null,
            "min_width": null,
            "object_fit": null,
            "object_position": null,
            "order": null,
            "overflow": null,
            "overflow_x": null,
            "overflow_y": null,
            "padding": null,
            "right": null,
            "top": null,
            "visibility": null,
            "width": null
          }
        },
        "34a46fcac8494df48090e32d140acc09": {
          "model_module": "@jupyter-widgets/controls",
          "model_name": "DescriptionStyleModel",
          "model_module_version": "1.5.0",
          "state": {
            "_model_module": "@jupyter-widgets/controls",
            "_model_module_version": "1.5.0",
            "_model_name": "DescriptionStyleModel",
            "_view_count": null,
            "_view_module": "@jupyter-widgets/base",
            "_view_module_version": "1.2.0",
            "_view_name": "StyleView",
            "description_width": ""
          }
        },
        "9a45a9a48314406684e0422ed1ee39b8": {
          "model_module": "@jupyter-widgets/base",
          "model_name": "LayoutModel",
          "model_module_version": "1.2.0",
          "state": {
            "_model_module": "@jupyter-widgets/base",
            "_model_module_version": "1.2.0",
            "_model_name": "LayoutModel",
            "_view_count": null,
            "_view_module": "@jupyter-widgets/base",
            "_view_module_version": "1.2.0",
            "_view_name": "LayoutView",
            "align_content": null,
            "align_items": null,
            "align_self": null,
            "border": null,
            "bottom": null,
            "display": null,
            "flex": null,
            "flex_flow": null,
            "grid_area": null,
            "grid_auto_columns": null,
            "grid_auto_flow": null,
            "grid_auto_rows": null,
            "grid_column": null,
            "grid_gap": null,
            "grid_row": null,
            "grid_template_areas": null,
            "grid_template_columns": null,
            "grid_template_rows": null,
            "height": null,
            "justify_content": null,
            "justify_items": null,
            "left": null,
            "margin": null,
            "max_height": null,
            "max_width": null,
            "min_height": null,
            "min_width": null,
            "object_fit": null,
            "object_position": null,
            "order": null,
            "overflow": null,
            "overflow_x": null,
            "overflow_y": null,
            "padding": null,
            "right": null,
            "top": null,
            "visibility": null,
            "width": null
          }
        },
        "778c3d00ba0b4647807230034df17188": {
          "model_module": "@jupyter-widgets/controls",
          "model_name": "ProgressStyleModel",
          "model_module_version": "1.5.0",
          "state": {
            "_model_module": "@jupyter-widgets/controls",
            "_model_module_version": "1.5.0",
            "_model_name": "ProgressStyleModel",
            "_view_count": null,
            "_view_module": "@jupyter-widgets/base",
            "_view_module_version": "1.2.0",
            "_view_name": "StyleView",
            "bar_color": null,
            "description_width": ""
          }
        },
        "5563139002394fcb85124cb688de9dcc": {
          "model_module": "@jupyter-widgets/base",
          "model_name": "LayoutModel",
          "model_module_version": "1.2.0",
          "state": {
            "_model_module": "@jupyter-widgets/base",
            "_model_module_version": "1.2.0",
            "_model_name": "LayoutModel",
            "_view_count": null,
            "_view_module": "@jupyter-widgets/base",
            "_view_module_version": "1.2.0",
            "_view_name": "LayoutView",
            "align_content": null,
            "align_items": null,
            "align_self": null,
            "border": null,
            "bottom": null,
            "display": null,
            "flex": null,
            "flex_flow": null,
            "grid_area": null,
            "grid_auto_columns": null,
            "grid_auto_flow": null,
            "grid_auto_rows": null,
            "grid_column": null,
            "grid_gap": null,
            "grid_row": null,
            "grid_template_areas": null,
            "grid_template_columns": null,
            "grid_template_rows": null,
            "height": null,
            "justify_content": null,
            "justify_items": null,
            "left": null,
            "margin": null,
            "max_height": null,
            "max_width": null,
            "min_height": null,
            "min_width": null,
            "object_fit": null,
            "object_position": null,
            "order": null,
            "overflow": null,
            "overflow_x": null,
            "overflow_y": null,
            "padding": null,
            "right": null,
            "top": null,
            "visibility": null,
            "width": null
          }
        },
        "0fd3a1cf4b234352897e5ce758a309bf": {
          "model_module": "@jupyter-widgets/controls",
          "model_name": "DescriptionStyleModel",
          "model_module_version": "1.5.0",
          "state": {
            "_model_module": "@jupyter-widgets/controls",
            "_model_module_version": "1.5.0",
            "_model_name": "DescriptionStyleModel",
            "_view_count": null,
            "_view_module": "@jupyter-widgets/base",
            "_view_module_version": "1.2.0",
            "_view_name": "StyleView",
            "description_width": ""
          }
        },
        "2fde88a15e384b5cb254470694e54adf": {
          "model_module": "@jupyter-widgets/controls",
          "model_name": "HBoxModel",
          "model_module_version": "1.5.0",
          "state": {
            "_dom_classes": [],
            "_model_module": "@jupyter-widgets/controls",
            "_model_module_version": "1.5.0",
            "_model_name": "HBoxModel",
            "_view_count": null,
            "_view_module": "@jupyter-widgets/controls",
            "_view_module_version": "1.5.0",
            "_view_name": "HBoxView",
            "box_style": "",
            "children": [
              "IPY_MODEL_c570241a8efd42e58ce0016a66d614fc",
              "IPY_MODEL_79e844aef21546088eb7e39e88e4133f",
              "IPY_MODEL_06bf7ba793824b8cb82c1527df881580"
            ],
            "layout": "IPY_MODEL_6e72e13681b4406aaa728d36a391d8db"
          }
        },
        "c570241a8efd42e58ce0016a66d614fc": {
          "model_module": "@jupyter-widgets/controls",
          "model_name": "HTMLModel",
          "model_module_version": "1.5.0",
          "state": {
            "_dom_classes": [],
            "_model_module": "@jupyter-widgets/controls",
            "_model_module_version": "1.5.0",
            "_model_name": "HTMLModel",
            "_view_count": null,
            "_view_module": "@jupyter-widgets/controls",
            "_view_module_version": "1.5.0",
            "_view_name": "HTMLView",
            "description": "",
            "description_tooltip": null,
            "layout": "IPY_MODEL_05f948ed73fb4df8a4bd6a3a96ef3467",
            "placeholder": "​",
            "style": "IPY_MODEL_b2c00d70248f4b52bc2b23ae8ca4e7f4",
            "value": ""
          }
        },
        "79e844aef21546088eb7e39e88e4133f": {
          "model_module": "@jupyter-widgets/controls",
          "model_name": "FloatProgressModel",
          "model_module_version": "1.5.0",
          "state": {
            "_dom_classes": [],
            "_model_module": "@jupyter-widgets/controls",
            "_model_module_version": "1.5.0",
            "_model_name": "FloatProgressModel",
            "_view_count": null,
            "_view_module": "@jupyter-widgets/controls",
            "_view_module_version": "1.5.0",
            "_view_name": "ProgressView",
            "bar_style": "success",
            "description": "",
            "description_tooltip": null,
            "layout": "IPY_MODEL_95f018a58c174d3c891dd92e8047c24b",
            "max": 1648877,
            "min": 0,
            "orientation": "horizontal",
            "style": "IPY_MODEL_80c61d8467f9469086c23714e165a111",
            "value": 1648877
          }
        },
        "06bf7ba793824b8cb82c1527df881580": {
          "model_module": "@jupyter-widgets/controls",
          "model_name": "HTMLModel",
          "model_module_version": "1.5.0",
          "state": {
            "_dom_classes": [],
            "_model_module": "@jupyter-widgets/controls",
            "_model_module_version": "1.5.0",
            "_model_name": "HTMLModel",
            "_view_count": null,
            "_view_module": "@jupyter-widgets/controls",
            "_view_module_version": "1.5.0",
            "_view_name": "HTMLView",
            "description": "",
            "description_tooltip": null,
            "layout": "IPY_MODEL_001f22e8a7954b309537a77964441d06",
            "placeholder": "​",
            "style": "IPY_MODEL_f99256d6ccfb48869882e84f8a013879",
            "value": " 1649664/? [00:00&lt;00:00, 4463003.89it/s]"
          }
        },
        "6e72e13681b4406aaa728d36a391d8db": {
          "model_module": "@jupyter-widgets/base",
          "model_name": "LayoutModel",
          "model_module_version": "1.2.0",
          "state": {
            "_model_module": "@jupyter-widgets/base",
            "_model_module_version": "1.2.0",
            "_model_name": "LayoutModel",
            "_view_count": null,
            "_view_module": "@jupyter-widgets/base",
            "_view_module_version": "1.2.0",
            "_view_name": "LayoutView",
            "align_content": null,
            "align_items": null,
            "align_self": null,
            "border": null,
            "bottom": null,
            "display": null,
            "flex": null,
            "flex_flow": null,
            "grid_area": null,
            "grid_auto_columns": null,
            "grid_auto_flow": null,
            "grid_auto_rows": null,
            "grid_column": null,
            "grid_gap": null,
            "grid_row": null,
            "grid_template_areas": null,
            "grid_template_columns": null,
            "grid_template_rows": null,
            "height": null,
            "justify_content": null,
            "justify_items": null,
            "left": null,
            "margin": null,
            "max_height": null,
            "max_width": null,
            "min_height": null,
            "min_width": null,
            "object_fit": null,
            "object_position": null,
            "order": null,
            "overflow": null,
            "overflow_x": null,
            "overflow_y": null,
            "padding": null,
            "right": null,
            "top": null,
            "visibility": null,
            "width": null
          }
        },
        "05f948ed73fb4df8a4bd6a3a96ef3467": {
          "model_module": "@jupyter-widgets/base",
          "model_name": "LayoutModel",
          "model_module_version": "1.2.0",
          "state": {
            "_model_module": "@jupyter-widgets/base",
            "_model_module_version": "1.2.0",
            "_model_name": "LayoutModel",
            "_view_count": null,
            "_view_module": "@jupyter-widgets/base",
            "_view_module_version": "1.2.0",
            "_view_name": "LayoutView",
            "align_content": null,
            "align_items": null,
            "align_self": null,
            "border": null,
            "bottom": null,
            "display": null,
            "flex": null,
            "flex_flow": null,
            "grid_area": null,
            "grid_auto_columns": null,
            "grid_auto_flow": null,
            "grid_auto_rows": null,
            "grid_column": null,
            "grid_gap": null,
            "grid_row": null,
            "grid_template_areas": null,
            "grid_template_columns": null,
            "grid_template_rows": null,
            "height": null,
            "justify_content": null,
            "justify_items": null,
            "left": null,
            "margin": null,
            "max_height": null,
            "max_width": null,
            "min_height": null,
            "min_width": null,
            "object_fit": null,
            "object_position": null,
            "order": null,
            "overflow": null,
            "overflow_x": null,
            "overflow_y": null,
            "padding": null,
            "right": null,
            "top": null,
            "visibility": null,
            "width": null
          }
        },
        "b2c00d70248f4b52bc2b23ae8ca4e7f4": {
          "model_module": "@jupyter-widgets/controls",
          "model_name": "DescriptionStyleModel",
          "model_module_version": "1.5.0",
          "state": {
            "_model_module": "@jupyter-widgets/controls",
            "_model_module_version": "1.5.0",
            "_model_name": "DescriptionStyleModel",
            "_view_count": null,
            "_view_module": "@jupyter-widgets/base",
            "_view_module_version": "1.2.0",
            "_view_name": "StyleView",
            "description_width": ""
          }
        },
        "95f018a58c174d3c891dd92e8047c24b": {
          "model_module": "@jupyter-widgets/base",
          "model_name": "LayoutModel",
          "model_module_version": "1.2.0",
          "state": {
            "_model_module": "@jupyter-widgets/base",
            "_model_module_version": "1.2.0",
            "_model_name": "LayoutModel",
            "_view_count": null,
            "_view_module": "@jupyter-widgets/base",
            "_view_module_version": "1.2.0",
            "_view_name": "LayoutView",
            "align_content": null,
            "align_items": null,
            "align_self": null,
            "border": null,
            "bottom": null,
            "display": null,
            "flex": null,
            "flex_flow": null,
            "grid_area": null,
            "grid_auto_columns": null,
            "grid_auto_flow": null,
            "grid_auto_rows": null,
            "grid_column": null,
            "grid_gap": null,
            "grid_row": null,
            "grid_template_areas": null,
            "grid_template_columns": null,
            "grid_template_rows": null,
            "height": null,
            "justify_content": null,
            "justify_items": null,
            "left": null,
            "margin": null,
            "max_height": null,
            "max_width": null,
            "min_height": null,
            "min_width": null,
            "object_fit": null,
            "object_position": null,
            "order": null,
            "overflow": null,
            "overflow_x": null,
            "overflow_y": null,
            "padding": null,
            "right": null,
            "top": null,
            "visibility": null,
            "width": null
          }
        },
        "80c61d8467f9469086c23714e165a111": {
          "model_module": "@jupyter-widgets/controls",
          "model_name": "ProgressStyleModel",
          "model_module_version": "1.5.0",
          "state": {
            "_model_module": "@jupyter-widgets/controls",
            "_model_module_version": "1.5.0",
            "_model_name": "ProgressStyleModel",
            "_view_count": null,
            "_view_module": "@jupyter-widgets/base",
            "_view_module_version": "1.2.0",
            "_view_name": "StyleView",
            "bar_color": null,
            "description_width": ""
          }
        },
        "001f22e8a7954b309537a77964441d06": {
          "model_module": "@jupyter-widgets/base",
          "model_name": "LayoutModel",
          "model_module_version": "1.2.0",
          "state": {
            "_model_module": "@jupyter-widgets/base",
            "_model_module_version": "1.2.0",
            "_model_name": "LayoutModel",
            "_view_count": null,
            "_view_module": "@jupyter-widgets/base",
            "_view_module_version": "1.2.0",
            "_view_name": "LayoutView",
            "align_content": null,
            "align_items": null,
            "align_self": null,
            "border": null,
            "bottom": null,
            "display": null,
            "flex": null,
            "flex_flow": null,
            "grid_area": null,
            "grid_auto_columns": null,
            "grid_auto_flow": null,
            "grid_auto_rows": null,
            "grid_column": null,
            "grid_gap": null,
            "grid_row": null,
            "grid_template_areas": null,
            "grid_template_columns": null,
            "grid_template_rows": null,
            "height": null,
            "justify_content": null,
            "justify_items": null,
            "left": null,
            "margin": null,
            "max_height": null,
            "max_width": null,
            "min_height": null,
            "min_width": null,
            "object_fit": null,
            "object_position": null,
            "order": null,
            "overflow": null,
            "overflow_x": null,
            "overflow_y": null,
            "padding": null,
            "right": null,
            "top": null,
            "visibility": null,
            "width": null
          }
        },
        "f99256d6ccfb48869882e84f8a013879": {
          "model_module": "@jupyter-widgets/controls",
          "model_name": "DescriptionStyleModel",
          "model_module_version": "1.5.0",
          "state": {
            "_model_module": "@jupyter-widgets/controls",
            "_model_module_version": "1.5.0",
            "_model_name": "DescriptionStyleModel",
            "_view_count": null,
            "_view_module": "@jupyter-widgets/base",
            "_view_module_version": "1.2.0",
            "_view_name": "StyleView",
            "description_width": ""
          }
        },
        "607ad0ec7dbd46b780bb25ae649d77c3": {
          "model_module": "@jupyter-widgets/controls",
          "model_name": "HBoxModel",
          "model_module_version": "1.5.0",
          "state": {
            "_dom_classes": [],
            "_model_module": "@jupyter-widgets/controls",
            "_model_module_version": "1.5.0",
            "_model_name": "HBoxModel",
            "_view_count": null,
            "_view_module": "@jupyter-widgets/controls",
            "_view_module_version": "1.5.0",
            "_view_name": "HBoxView",
            "box_style": "",
            "children": [
              "IPY_MODEL_8bfad3b063744f0b8118c48c4d57c323",
              "IPY_MODEL_8daead2efdad43cba0ca84b039aa98f9",
              "IPY_MODEL_67b49cc390e74c16b17b58d5e939b03a"
            ],
            "layout": "IPY_MODEL_7719c259923b46bc9e2124a5e19d1815"
          }
        },
        "8bfad3b063744f0b8118c48c4d57c323": {
          "model_module": "@jupyter-widgets/controls",
          "model_name": "HTMLModel",
          "model_module_version": "1.5.0",
          "state": {
            "_dom_classes": [],
            "_model_module": "@jupyter-widgets/controls",
            "_model_module_version": "1.5.0",
            "_model_name": "HTMLModel",
            "_view_count": null,
            "_view_module": "@jupyter-widgets/controls",
            "_view_module_version": "1.5.0",
            "_view_name": "HTMLView",
            "description": "",
            "description_tooltip": null,
            "layout": "IPY_MODEL_3102d46ab2354d098a43d459601b3b12",
            "placeholder": "​",
            "style": "IPY_MODEL_767841ef06154ec7b06fcd69526c5b5f",
            "value": ""
          }
        },
        "8daead2efdad43cba0ca84b039aa98f9": {
          "model_module": "@jupyter-widgets/controls",
          "model_name": "FloatProgressModel",
          "model_module_version": "1.5.0",
          "state": {
            "_dom_classes": [],
            "_model_module": "@jupyter-widgets/controls",
            "_model_module_version": "1.5.0",
            "_model_name": "FloatProgressModel",
            "_view_count": null,
            "_view_module": "@jupyter-widgets/controls",
            "_view_module_version": "1.5.0",
            "_view_name": "ProgressView",
            "bar_style": "success",
            "description": "",
            "description_tooltip": null,
            "layout": "IPY_MODEL_8762af96679e4e1aa61bc33cf43c6cfa",
            "max": 4542,
            "min": 0,
            "orientation": "horizontal",
            "style": "IPY_MODEL_18ce51f586e14cc6b1dd298031a9395c",
            "value": 4542
          }
        },
        "67b49cc390e74c16b17b58d5e939b03a": {
          "model_module": "@jupyter-widgets/controls",
          "model_name": "HTMLModel",
          "model_module_version": "1.5.0",
          "state": {
            "_dom_classes": [],
            "_model_module": "@jupyter-widgets/controls",
            "_model_module_version": "1.5.0",
            "_model_name": "HTMLModel",
            "_view_count": null,
            "_view_module": "@jupyter-widgets/controls",
            "_view_module_version": "1.5.0",
            "_view_name": "HTMLView",
            "description": "",
            "description_tooltip": null,
            "layout": "IPY_MODEL_62702a1569c2478db67a03fe805a4e98",
            "placeholder": "​",
            "style": "IPY_MODEL_9f345ed1fe8c461ba0174e978980db2a",
            "value": " 5120/? [00:00&lt;00:00, 64030.40it/s]"
          }
        },
        "7719c259923b46bc9e2124a5e19d1815": {
          "model_module": "@jupyter-widgets/base",
          "model_name": "LayoutModel",
          "model_module_version": "1.2.0",
          "state": {
            "_model_module": "@jupyter-widgets/base",
            "_model_module_version": "1.2.0",
            "_model_name": "LayoutModel",
            "_view_count": null,
            "_view_module": "@jupyter-widgets/base",
            "_view_module_version": "1.2.0",
            "_view_name": "LayoutView",
            "align_content": null,
            "align_items": null,
            "align_self": null,
            "border": null,
            "bottom": null,
            "display": null,
            "flex": null,
            "flex_flow": null,
            "grid_area": null,
            "grid_auto_columns": null,
            "grid_auto_flow": null,
            "grid_auto_rows": null,
            "grid_column": null,
            "grid_gap": null,
            "grid_row": null,
            "grid_template_areas": null,
            "grid_template_columns": null,
            "grid_template_rows": null,
            "height": null,
            "justify_content": null,
            "justify_items": null,
            "left": null,
            "margin": null,
            "max_height": null,
            "max_width": null,
            "min_height": null,
            "min_width": null,
            "object_fit": null,
            "object_position": null,
            "order": null,
            "overflow": null,
            "overflow_x": null,
            "overflow_y": null,
            "padding": null,
            "right": null,
            "top": null,
            "visibility": null,
            "width": null
          }
        },
        "3102d46ab2354d098a43d459601b3b12": {
          "model_module": "@jupyter-widgets/base",
          "model_name": "LayoutModel",
          "model_module_version": "1.2.0",
          "state": {
            "_model_module": "@jupyter-widgets/base",
            "_model_module_version": "1.2.0",
            "_model_name": "LayoutModel",
            "_view_count": null,
            "_view_module": "@jupyter-widgets/base",
            "_view_module_version": "1.2.0",
            "_view_name": "LayoutView",
            "align_content": null,
            "align_items": null,
            "align_self": null,
            "border": null,
            "bottom": null,
            "display": null,
            "flex": null,
            "flex_flow": null,
            "grid_area": null,
            "grid_auto_columns": null,
            "grid_auto_flow": null,
            "grid_auto_rows": null,
            "grid_column": null,
            "grid_gap": null,
            "grid_row": null,
            "grid_template_areas": null,
            "grid_template_columns": null,
            "grid_template_rows": null,
            "height": null,
            "justify_content": null,
            "justify_items": null,
            "left": null,
            "margin": null,
            "max_height": null,
            "max_width": null,
            "min_height": null,
            "min_width": null,
            "object_fit": null,
            "object_position": null,
            "order": null,
            "overflow": null,
            "overflow_x": null,
            "overflow_y": null,
            "padding": null,
            "right": null,
            "top": null,
            "visibility": null,
            "width": null
          }
        },
        "767841ef06154ec7b06fcd69526c5b5f": {
          "model_module": "@jupyter-widgets/controls",
          "model_name": "DescriptionStyleModel",
          "model_module_version": "1.5.0",
          "state": {
            "_model_module": "@jupyter-widgets/controls",
            "_model_module_version": "1.5.0",
            "_model_name": "DescriptionStyleModel",
            "_view_count": null,
            "_view_module": "@jupyter-widgets/base",
            "_view_module_version": "1.2.0",
            "_view_name": "StyleView",
            "description_width": ""
          }
        },
        "8762af96679e4e1aa61bc33cf43c6cfa": {
          "model_module": "@jupyter-widgets/base",
          "model_name": "LayoutModel",
          "model_module_version": "1.2.0",
          "state": {
            "_model_module": "@jupyter-widgets/base",
            "_model_module_version": "1.2.0",
            "_model_name": "LayoutModel",
            "_view_count": null,
            "_view_module": "@jupyter-widgets/base",
            "_view_module_version": "1.2.0",
            "_view_name": "LayoutView",
            "align_content": null,
            "align_items": null,
            "align_self": null,
            "border": null,
            "bottom": null,
            "display": null,
            "flex": null,
            "flex_flow": null,
            "grid_area": null,
            "grid_auto_columns": null,
            "grid_auto_flow": null,
            "grid_auto_rows": null,
            "grid_column": null,
            "grid_gap": null,
            "grid_row": null,
            "grid_template_areas": null,
            "grid_template_columns": null,
            "grid_template_rows": null,
            "height": null,
            "justify_content": null,
            "justify_items": null,
            "left": null,
            "margin": null,
            "max_height": null,
            "max_width": null,
            "min_height": null,
            "min_width": null,
            "object_fit": null,
            "object_position": null,
            "order": null,
            "overflow": null,
            "overflow_x": null,
            "overflow_y": null,
            "padding": null,
            "right": null,
            "top": null,
            "visibility": null,
            "width": null
          }
        },
        "18ce51f586e14cc6b1dd298031a9395c": {
          "model_module": "@jupyter-widgets/controls",
          "model_name": "ProgressStyleModel",
          "model_module_version": "1.5.0",
          "state": {
            "_model_module": "@jupyter-widgets/controls",
            "_model_module_version": "1.5.0",
            "_model_name": "ProgressStyleModel",
            "_view_count": null,
            "_view_module": "@jupyter-widgets/base",
            "_view_module_version": "1.2.0",
            "_view_name": "StyleView",
            "bar_color": null,
            "description_width": ""
          }
        },
        "62702a1569c2478db67a03fe805a4e98": {
          "model_module": "@jupyter-widgets/base",
          "model_name": "LayoutModel",
          "model_module_version": "1.2.0",
          "state": {
            "_model_module": "@jupyter-widgets/base",
            "_model_module_version": "1.2.0",
            "_model_name": "LayoutModel",
            "_view_count": null,
            "_view_module": "@jupyter-widgets/base",
            "_view_module_version": "1.2.0",
            "_view_name": "LayoutView",
            "align_content": null,
            "align_items": null,
            "align_self": null,
            "border": null,
            "bottom": null,
            "display": null,
            "flex": null,
            "flex_flow": null,
            "grid_area": null,
            "grid_auto_columns": null,
            "grid_auto_flow": null,
            "grid_auto_rows": null,
            "grid_column": null,
            "grid_gap": null,
            "grid_row": null,
            "grid_template_areas": null,
            "grid_template_columns": null,
            "grid_template_rows": null,
            "height": null,
            "justify_content": null,
            "justify_items": null,
            "left": null,
            "margin": null,
            "max_height": null,
            "max_width": null,
            "min_height": null,
            "min_width": null,
            "object_fit": null,
            "object_position": null,
            "order": null,
            "overflow": null,
            "overflow_x": null,
            "overflow_y": null,
            "padding": null,
            "right": null,
            "top": null,
            "visibility": null,
            "width": null
          }
        },
        "9f345ed1fe8c461ba0174e978980db2a": {
          "model_module": "@jupyter-widgets/controls",
          "model_name": "DescriptionStyleModel",
          "model_module_version": "1.5.0",
          "state": {
            "_model_module": "@jupyter-widgets/controls",
            "_model_module_version": "1.5.0",
            "_model_name": "DescriptionStyleModel",
            "_view_count": null,
            "_view_module": "@jupyter-widgets/base",
            "_view_module_version": "1.2.0",
            "_view_name": "StyleView",
            "description_width": ""
          }
        }
      }
    }
  },
  "cells": [
    {
      "cell_type": "markdown",
      "source": [
        "Importing the required libraries:"
      ],
      "metadata": {
        "id": "Isc_p6fePmt8"
      }
    },
    {
      "cell_type": "code",
      "source": [
        "import torch\n",
        "import torch.nn as nn\n",
        "from torch.nn.modules.activation import ReLU\n",
        "from torch import optim\n",
        "from torchvision import datasets\n",
        "from torchvision import transforms\n",
        "from torch.utils.data import random_split\n",
        "from torch.utils.data import DataLoader\n",
        "import numpy as np\n",
        "import matplotlib.pyplot as plt"
      ],
      "metadata": {
        "id": "ToGGyvPtG-HA"
      },
      "execution_count": 1,
      "outputs": []
    },
    {
      "cell_type": "markdown",
      "source": [
        "Function for plotting the error graph of test and validation error:"
      ],
      "metadata": {
        "id": "ZBrdAv0gPqjQ"
      }
    },
    {
      "cell_type": "code",
      "source": [
        "def plotter(lossFun, mode):\n",
        "    lossFun = np.array(lossFun)\n",
        "    u = np.arange(start=1, stop=6, step=1)\n",
        "    plt.xlabel('Epoch number')\n",
        "    plt.ylabel('Loss Function')\n",
        "    if mode == 'train':\n",
        "        plt.title('Loss function for Train data')\n",
        "    else:\n",
        "        plt.title('Loss function for Validation data')\n",
        "    plt.plot(u,lossFun)\n",
        "    plt.show()"
      ],
      "metadata": {
        "id": "h0qs2BMQMiAF"
      },
      "execution_count": 2,
      "outputs": []
    },
    {
      "cell_type": "markdown",
      "source": [
        "Loading the MNIST handwritting dataset and dividing the train into train and validation. Batch size =32"
      ],
      "metadata": {
        "id": "zLwQROORPw7H"
      }
    },
    {
      "cell_type": "code",
      "source": [
        "data = datasets.MNIST('data', train = True, download = True, transform = transforms.ToTensor())\n",
        "training, validation = random_split(data, [55000, 5000])\n",
        "trainingData = DataLoader(training, batch_size = 32)\n",
        "validationData = DataLoader(validation, batch_size = 32)\n",
        "\n",
        "dataTest = datasets.MNIST('data', train = False, download = True, transform = transforms.ToTensor())\n",
        "testData = DataLoader(dataTest, batch_size = 32)"
      ],
      "metadata": {
        "id": "T452zw8SAkpb",
        "outputId": "fcebd66e-1d35-4a28-8d45-b2bf3dced1d4",
        "colab": {
          "base_uri": "https://localhost:8080/",
          "height": 423,
          "referenced_widgets": [
            "1850929c983c4c2da310ab30e8de0787",
            "2c178f4dfdf340b9aa5d05331aa3b6eb",
            "0052d6b6ac094512a7c228ecdab443d8",
            "ee24fb80a55f48a4904afc28ead8ec33",
            "b0f2ebdac6c74a039350e65b998ca10f",
            "0cb97b8363bd4997bdecd09906b92dcf",
            "0c365a86e565457b9e78af0815079ce9",
            "4563a53b3c1f44df91db9f813902563b",
            "b49c7c06c2a049ff9c66fcf9dfd25da4",
            "401508334c904c5a954514cc3fac5bca",
            "297f313141ab4222bf98009e9ace34d5",
            "1786272854b541e6a4d06613a30d264e",
            "29e25e29c5864c8ea52d8e13b0ffdc66",
            "12c93090d7464b9da155e4601ca67448",
            "3ee434857ef24c85902e6c4bf357b1d6",
            "f4fcaea272154ff3beafaee8964b6802",
            "4cca9c76c5ff4e399c6d1b70ddf28b0f",
            "34a46fcac8494df48090e32d140acc09",
            "9a45a9a48314406684e0422ed1ee39b8",
            "778c3d00ba0b4647807230034df17188",
            "5563139002394fcb85124cb688de9dcc",
            "0fd3a1cf4b234352897e5ce758a309bf",
            "2fde88a15e384b5cb254470694e54adf",
            "c570241a8efd42e58ce0016a66d614fc",
            "79e844aef21546088eb7e39e88e4133f",
            "06bf7ba793824b8cb82c1527df881580",
            "6e72e13681b4406aaa728d36a391d8db",
            "05f948ed73fb4df8a4bd6a3a96ef3467",
            "b2c00d70248f4b52bc2b23ae8ca4e7f4",
            "95f018a58c174d3c891dd92e8047c24b",
            "80c61d8467f9469086c23714e165a111",
            "001f22e8a7954b309537a77964441d06",
            "f99256d6ccfb48869882e84f8a013879",
            "607ad0ec7dbd46b780bb25ae649d77c3",
            "8bfad3b063744f0b8118c48c4d57c323",
            "8daead2efdad43cba0ca84b039aa98f9",
            "67b49cc390e74c16b17b58d5e939b03a",
            "7719c259923b46bc9e2124a5e19d1815",
            "3102d46ab2354d098a43d459601b3b12",
            "767841ef06154ec7b06fcd69526c5b5f",
            "8762af96679e4e1aa61bc33cf43c6cfa",
            "18ce51f586e14cc6b1dd298031a9395c",
            "62702a1569c2478db67a03fe805a4e98",
            "9f345ed1fe8c461ba0174e978980db2a"
          ]
        }
      },
      "execution_count": 3,
      "outputs": [
        {
          "output_type": "stream",
          "name": "stdout",
          "text": [
            "Downloading http://yann.lecun.com/exdb/mnist/train-images-idx3-ubyte.gz\n",
            "Downloading http://yann.lecun.com/exdb/mnist/train-images-idx3-ubyte.gz to data/MNIST/raw/train-images-idx3-ubyte.gz\n"
          ]
        },
        {
          "output_type": "display_data",
          "data": {
            "text/plain": [
              "  0%|          | 0/9912422 [00:00<?, ?it/s]"
            ],
            "application/vnd.jupyter.widget-view+json": {
              "version_major": 2,
              "version_minor": 0,
              "model_id": "1850929c983c4c2da310ab30e8de0787"
            }
          },
          "metadata": {}
        },
        {
          "output_type": "stream",
          "name": "stdout",
          "text": [
            "Extracting data/MNIST/raw/train-images-idx3-ubyte.gz to data/MNIST/raw\n",
            "\n",
            "Downloading http://yann.lecun.com/exdb/mnist/train-labels-idx1-ubyte.gz\n",
            "Downloading http://yann.lecun.com/exdb/mnist/train-labels-idx1-ubyte.gz to data/MNIST/raw/train-labels-idx1-ubyte.gz\n"
          ]
        },
        {
          "output_type": "display_data",
          "data": {
            "text/plain": [
              "  0%|          | 0/28881 [00:00<?, ?it/s]"
            ],
            "application/vnd.jupyter.widget-view+json": {
              "version_major": 2,
              "version_minor": 0,
              "model_id": "1786272854b541e6a4d06613a30d264e"
            }
          },
          "metadata": {}
        },
        {
          "output_type": "stream",
          "name": "stdout",
          "text": [
            "Extracting data/MNIST/raw/train-labels-idx1-ubyte.gz to data/MNIST/raw\n",
            "\n",
            "Downloading http://yann.lecun.com/exdb/mnist/t10k-images-idx3-ubyte.gz\n",
            "Downloading http://yann.lecun.com/exdb/mnist/t10k-images-idx3-ubyte.gz to data/MNIST/raw/t10k-images-idx3-ubyte.gz\n"
          ]
        },
        {
          "output_type": "display_data",
          "data": {
            "text/plain": [
              "  0%|          | 0/1648877 [00:00<?, ?it/s]"
            ],
            "application/vnd.jupyter.widget-view+json": {
              "version_major": 2,
              "version_minor": 0,
              "model_id": "2fde88a15e384b5cb254470694e54adf"
            }
          },
          "metadata": {}
        },
        {
          "output_type": "stream",
          "name": "stdout",
          "text": [
            "Extracting data/MNIST/raw/t10k-images-idx3-ubyte.gz to data/MNIST/raw\n",
            "\n",
            "Downloading http://yann.lecun.com/exdb/mnist/t10k-labels-idx1-ubyte.gz\n",
            "Downloading http://yann.lecun.com/exdb/mnist/t10k-labels-idx1-ubyte.gz to data/MNIST/raw/t10k-labels-idx1-ubyte.gz\n"
          ]
        },
        {
          "output_type": "display_data",
          "data": {
            "text/plain": [
              "  0%|          | 0/4542 [00:00<?, ?it/s]"
            ],
            "application/vnd.jupyter.widget-view+json": {
              "version_major": 2,
              "version_minor": 0,
              "model_id": "607ad0ec7dbd46b780bb25ae649d77c3"
            }
          },
          "metadata": {}
        },
        {
          "output_type": "stream",
          "name": "stdout",
          "text": [
            "Extracting data/MNIST/raw/t10k-labels-idx1-ubyte.gz to data/MNIST/raw\n",
            "\n"
          ]
        }
      ]
    },
    {
      "cell_type": "markdown",
      "source": [
        "DNN with 2 hidden layer and each layer having 512 neurons: "
      ],
      "metadata": {
        "id": "c-mXtpfIQDbR"
      }
    },
    {
      "cell_type": "code",
      "source": [
        "modelWith2HL = nn.Sequential(\n",
        "    nn.Linear(28 * 28, 512),\n",
        "    nn.ReLU(),\n",
        "    nn.Linear(512, 512),\n",
        "    nn.ReLU(),\n",
        "    nn.Linear(512, 10)\n",
        ")"
      ],
      "metadata": {
        "id": "bT3fYPXjF7JN"
      },
      "execution_count": 4,
      "outputs": []
    },
    {
      "cell_type": "markdown",
      "source": [
        "Using stochastic gradient descent optimizer, and learning rate of 0.01:"
      ],
      "metadata": {
        "id": "8AOkx2-oQLbB"
      }
    },
    {
      "cell_type": "code",
      "source": [
        "optimiser = optim.SGD(modelWith2HL.parameters(), lr = 1e-2)"
      ],
      "metadata": {
        "id": "0KEgefxh-5Xa"
      },
      "execution_count": 5,
      "outputs": []
    },
    {
      "cell_type": "markdown",
      "source": [
        "Using cross entropy loss function:"
      ],
      "metadata": {
        "id": "Q_bXqQtZQTSa"
      }
    },
    {
      "cell_type": "code",
      "source": [
        "lossFunction = nn.CrossEntropyLoss()"
      ],
      "metadata": {
        "id": "FxCQ_ZK5_LS0"
      },
      "execution_count": 6,
      "outputs": []
    },
    {
      "cell_type": "markdown",
      "source": [
        "Training the DNN over 5 epoches and calculating the train, validation loss and validation error:"
      ],
      "metadata": {
        "id": "JCqlxGgIQXUw"
      }
    },
    {
      "cell_type": "code",
      "source": [
        "numberOfEpochs = 5\n",
        "lossValueTrain = []\n",
        "lossValueValidation = []\n",
        "accuracyVal = []\n",
        "pltTrain = []\n",
        "pltVal = []\n",
        "for epochs in range(0, numberOfEpochs):\n",
        "  \n",
        "  for batch in trainingData:\n",
        "    x, y = batch\n",
        "\n",
        "    b = x.size(0)\n",
        "    x = x.view(b, -1)\n",
        "\n",
        "    forwardValue = modelWith2HL(x)\n",
        "\n",
        "    J = lossFunction(forwardValue, y)\n",
        "\n",
        "    modelWith2HL.zero_grad()\n",
        "\n",
        "    J.backward()\n",
        "\n",
        "    optimiser.step()\n",
        "\n",
        "    lossValueTrain.append(J.item())\n",
        "\n",
        "\n",
        "\n",
        "  for batch in validationData:\n",
        "    x, y = batch\n",
        "\n",
        "    b = x.size(0)\n",
        "    x = x.view(b, -1)\n",
        "\n",
        "    with torch.no_grad():\n",
        "      forwardValue = modelWith2HL(x)\n",
        "\n",
        "    J = lossFunction(forwardValue, y)\n",
        "    \n",
        "    lossValueValidation.append(J.item())\n",
        "    accuracyVal.append(y.eq(forwardValue.detach().argmax(dim = 1)).float().mean())\n",
        "\n",
        "  pltTrain.append(torch.tensor(lossValueTrain).mean())\n",
        "  pltVal.append(torch.tensor(lossValueValidation).mean())\n",
        "  print(f'Epoch Number: {epochs + 1}, train Loss: {torch.tensor(lossValueTrain).mean():.2f}, validation Loss: {torch.tensor(lossValueValidation).mean():.2f}, Validation Accuracy: {torch.tensor(accuracyVal).mean():.2f}')\n",
        "\n"
      ],
      "metadata": {
        "colab": {
          "base_uri": "https://localhost:8080/"
        },
        "id": "uUabRtaG_b6T",
        "outputId": "0ef525ab-0079-4330-8e4e-7f6bc3c6bfcf"
      },
      "execution_count": 7,
      "outputs": [
        {
          "output_type": "stream",
          "name": "stdout",
          "text": [
            "Epoch Number: 1, train Loss: 1.09, validation Loss: 0.42, Validation Accuracy: 0.88\n",
            "Epoch Number: 2, train Loss: 0.73, validation Loss: 0.37, Validation Accuracy: 0.89\n",
            "Epoch Number: 3, train Loss: 0.59, validation Loss: 0.34, Validation Accuracy: 0.90\n",
            "Epoch Number: 4, train Loss: 0.51, validation Loss: 0.31, Validation Accuracy: 0.91\n",
            "Epoch Number: 5, train Loss: 0.45, validation Loss: 0.30, Validation Accuracy: 0.91\n"
          ]
        }
      ]
    },
    {
      "cell_type": "code",
      "source": [
        "plotter(pltTrain, 'train')"
      ],
      "metadata": {
        "colab": {
          "base_uri": "https://localhost:8080/",
          "height": 295
        },
        "id": "SVjvhShtNBuB",
        "outputId": "a5cc127a-6beb-4f60-b8e6-c66aa4808aa6"
      },
      "execution_count": 8,
      "outputs": [
        {
          "output_type": "display_data",
          "data": {
            "text/plain": [
              "<Figure size 432x288 with 1 Axes>"
            ],
            "image/png": "[encoded data removed]"
          },
          "metadata": {
            "needs_background": "light"
          }
        }
      ]
    },
    {
      "cell_type": "code",
      "source": [
        "plotter(pltVal, 'val')"
      ],
      "metadata": {
        "colab": {
          "base_uri": "https://localhost:8080/",
          "height": 295
        },
        "id": "ifaxVwGDOtxX",
        "outputId": "5846594b-846c-4487-8d27-35c13da8a157"
      },
      "execution_count": 9,
      "outputs": [
        {
          "output_type": "display_data",
          "data": {
            "text/plain": [
              "<Figure size 432x288 with 1 Axes>"
            ],
            "image/png": "[encoded data removed]"
          },
          "metadata": {
            "needs_background": "light"
          }
        }
      ]
    },
    {
      "cell_type": "markdown",
      "source": [
        "Calculating the accuracy for test handwitting samples:"
      ],
      "metadata": {
        "id": "FIHFi4CWQmIW"
      }
    },
    {
      "cell_type": "code",
      "source": [
        "# lossValue = []\n",
        "accuracyTest = []\n",
        "for batch in testData:\n",
        "  x, y = batch\n",
        "\n",
        "  b = x.size(0)\n",
        "  x = x.view(b, -1)\n",
        "\n",
        "  with torch.no_grad():\n",
        "    forwardValue = modelWith2HL(x)\n",
        "\n",
        "  # J = lossFunction(forwardValue, y)\n",
        "  \n",
        "  # lossValueValidation.append(J.item())\n",
        "  accuracyTest.append(y.eq(forwardValue.detach().argmax(dim = 1)).float().mean())\n",
        "print(f'Test Accuracy: {torch.tensor(accuracyTest).mean():.2f}')"
      ],
      "metadata": {
        "colab": {
          "base_uri": "https://localhost:8080/"
        },
        "id": "1GQ5zPHsNj5I",
        "outputId": "8dfcf8f3-3e23-4346-ea3a-cfc434cb6c3b"
      },
      "execution_count": 10,
      "outputs": [
        {
          "output_type": "stream",
          "name": "stdout",
          "text": [
            "Test Accuracy: 0.94\n"
          ]
        }
      ]
    },
    {
      "cell_type": "markdown",
      "source": [
        "DNN with 3 hidden layers of neurons and each layer with 512 units: "
      ],
      "metadata": {
        "id": "UphoyL3JQtCO"
      }
    },
    {
      "cell_type": "code",
      "source": [
        "modelWith3HL = nn.Sequential(\n",
        "    nn.Linear(28 * 28, 512),\n",
        "    nn.ReLU(),\n",
        "    nn.Linear(512, 512),\n",
        "    nn.ReLU(),\n",
        "    nn.Linear(512, 512),\n",
        "    nn.ReLU(),\n",
        "    nn.Linear(512, 10)\n",
        ")"
      ],
      "metadata": {
        "id": "GPWkeukUGvBz"
      },
      "execution_count": 11,
      "outputs": []
    },
    {
      "cell_type": "markdown",
      "source": [
        "SGD optimizer with learning rate of 0.01 used "
      ],
      "metadata": {
        "id": "H6IYaGuHQz7c"
      }
    },
    {
      "cell_type": "code",
      "source": [
        "optimiser = optim.SGD(modelWith3HL.parameters(), lr = 1e-2)"
      ],
      "metadata": {
        "id": "SBssYKZsKoMW"
      },
      "execution_count": 12,
      "outputs": []
    },
    {
      "cell_type": "markdown",
      "source": [
        "Cross entropy loss function used:"
      ],
      "metadata": {
        "id": "iD6G6ba9Q5kH"
      }
    },
    {
      "cell_type": "code",
      "source": [
        "lossFunction = nn.CrossEntropyLoss()"
      ],
      "metadata": {
        "id": "Uad9kpsDKqzA"
      },
      "execution_count": 13,
      "outputs": []
    },
    {
      "cell_type": "markdown",
      "source": [
        "Training the model parameters over 5 epoches and calculating train, validation loss: "
      ],
      "metadata": {
        "id": "tSuNeymrQ8kH"
      }
    },
    {
      "cell_type": "code",
      "source": [
        "numberOfEpochs = 5\n",
        "pltTrain = []\n",
        "pltVal = []\n",
        "for epochs in range(0, numberOfEpochs):\n",
        "  lossValueTrain = []\n",
        "  for batch in trainingData:\n",
        "    x, y = batch\n",
        "\n",
        "    b = x.size(0)\n",
        "    x = x.view(b, -1)\n",
        "\n",
        "    forwardValue = modelWith3HL(x)\n",
        "\n",
        "    J = lossFunction(forwardValue, y)\n",
        "\n",
        "    modelWith3HL.zero_grad()\n",
        "\n",
        "    J.backward()\n",
        "\n",
        "    optimiser.step()\n",
        "\n",
        "    lossValueTrain.append(J.item())\n",
        "\n",
        "\n",
        "  lossValueValidation = []\n",
        "  accuracy = []\n",
        "  for batch in validationData:\n",
        "    x, y = batch\n",
        "\n",
        "    b = x.size(0)\n",
        "    x = x.view(b, -1)\n",
        "\n",
        "    with torch.no_grad():\n",
        "      forwardValue = modelWith3HL(x)\n",
        "\n",
        "    J = lossFunction(forwardValue, y)\n",
        "    \n",
        "    lossValueValidation.append(J.item())\n",
        "    accuracy.append(y.eq(forwardValue.detach().argmax(dim = 1)).float().mean())\n",
        "\n",
        "\n",
        "  pltTrain.append(torch.tensor(lossValueTrain).mean())\n",
        "  pltVal.append(torch.tensor(lossValueValidation).mean())\n",
        "  print(f'Epoch Number: {epochs + 1}, train Loss: {torch.tensor(lossValueTrain).mean():.2f}, validation Loss: {torch.tensor(lossValueValidation).mean():.2f}, Validation Accuracy: {torch.tensor(accuracy).mean():.2f}')\n"
      ],
      "metadata": {
        "colab": {
          "base_uri": "https://localhost:8080/"
        },
        "id": "e0Nd7o3WKiMx",
        "outputId": "fb13c4d7-e2a0-4a12-ce42-017ec1dc986b"
      },
      "execution_count": 14,
      "outputs": [
        {
          "output_type": "stream",
          "name": "stdout",
          "text": [
            "Epoch Number: 1, train Loss: 1.51, validation Loss: 0.51, Validation Accuracy: 0.85\n",
            "Epoch Number: 2, train Loss: 0.41, validation Loss: 0.34, Validation Accuracy: 0.90\n",
            "Epoch Number: 3, train Loss: 0.31, validation Loss: 0.28, Validation Accuracy: 0.92\n",
            "Epoch Number: 4, train Loss: 0.26, validation Loss: 0.24, Validation Accuracy: 0.93\n",
            "Epoch Number: 5, train Loss: 0.22, validation Loss: 0.20, Validation Accuracy: 0.94\n"
          ]
        }
      ]
    },
    {
      "cell_type": "code",
      "source": [
        "plotter(pltTrain, 'train')"
      ],
      "metadata": {
        "colab": {
          "base_uri": "https://localhost:8080/",
          "height": 295
        },
        "id": "rACOIqQzxqL_",
        "outputId": "d11a45d7-2f34-4985-9c8d-747f2255cbe8"
      },
      "execution_count": 15,
      "outputs": [
        {
          "output_type": "display_data",
          "data": {
            "text/plain": [
              "<Figure size 432x288 with 1 Axes>"
            ],
            "image/png": "[encoded data removed]"
          },
          "metadata": {
            "needs_background": "light"
          }
        }
      ]
    },
    {
      "cell_type": "code",
      "source": [
        "plotter(pltVal, 'val')"
      ],
      "metadata": {
        "colab": {
          "base_uri": "https://localhost:8080/",
          "height": 295
        },
        "id": "zOlxb0cyxtO4",
        "outputId": "90455153-21b9-491d-a990-020a40ffa244"
      },
      "execution_count": 16,
      "outputs": [
        {
          "output_type": "display_data",
          "data": {
            "text/plain": [
              "<Figure size 432x288 with 1 Axes>"
            ],
            "image/png": "[encoded data removed]"
          },
          "metadata": {
            "needs_background": "light"
          }
        }
      ]
    },
    {
      "cell_type": "markdown",
      "source": [
        "Calculating accuracy for DNN with 3 hidden layers of 512 neurons on test data. "
      ],
      "metadata": {
        "id": "DP-wnjMTRLDK"
      }
    },
    {
      "cell_type": "code",
      "source": [
        "# lossValue = []\n",
        "accuracyTest = []\n",
        "for batch in testData:\n",
        "  x, y = batch\n",
        "\n",
        "  b = x.size(0)\n",
        "  x = x.view(b, -1)\n",
        "\n",
        "  with torch.no_grad():\n",
        "    forwardValue = modelWith3HL(x)\n",
        "\n",
        "  # J = lossFunction(forwardValue, y)\n",
        "  \n",
        "  # lossValueValidation.append(J.item())\n",
        "  accuracyTest.append(y.eq(forwardValue.detach().argmax(dim = 1)).float().mean())\n",
        "print(f'Test Accuracy: {torch.tensor(accuracyTest).mean():.2f}')"
      ],
      "metadata": {
        "colab": {
          "base_uri": "https://localhost:8080/"
        },
        "id": "eX02uDXWPHet",
        "outputId": "42daaca2-be04-4507-ce77-da680d58a53f"
      },
      "execution_count": 17,
      "outputs": [
        {
          "output_type": "stream",
          "name": "stdout",
          "text": [
            "Test Accuracy: 0.94\n"
          ]
        }
      ]
    },
    {
      "cell_type": "markdown",
      "source": [
        "**DNN with 3 layers gives better accuracy as compared to DNN with less (2) hidden layers**"
      ],
      "metadata": {
        "id": "lwwr9zpocsav"
      }
    },
    {
      "cell_type": "markdown",
      "source": [
        "Making CNN model with kernel filter size =3, two hidden layer with 256 neurons and Relu function. "
      ],
      "metadata": {
        "id": "X1xNGnwbRR7W"
      }
    },
    {
      "cell_type": "code",
      "source": [
        "modelWithCNN = nn.Sequential(\n",
        "    nn.Conv2d(1, 128, kernel_size=3, stride=1, padding=1),\n",
        "    nn.ReLU(),\n",
        "    nn.Flatten(),\n",
        "    nn.Linear(100352, 256),\n",
        "    nn.ReLU(),\n",
        "    nn.Linear(256, 256),\n",
        "    nn.ReLU(),\n",
        "    nn.Linear(256, 10)\n",
        ")"
      ],
      "metadata": {
        "id": "PJSRLDBBg4yi"
      },
      "execution_count": 18,
      "outputs": []
    },
    {
      "cell_type": "markdown",
      "source": [
        "SGD optimizer used for CNN"
      ],
      "metadata": {
        "id": "_1z56j2ERfdK"
      }
    },
    {
      "cell_type": "code",
      "source": [
        "optimiser = optim.SGD(modelWithCNN.parameters(), lr = 1e-2)"
      ],
      "metadata": {
        "id": "OUQ3gpp7h3VD"
      },
      "execution_count": 19,
      "outputs": []
    },
    {
      "cell_type": "markdown",
      "source": [
        "Cross entropy loss function used in CNN:"
      ],
      "metadata": {
        "id": "-IigLvZYRiny"
      }
    },
    {
      "cell_type": "code",
      "source": [
        "lossFunction = nn.CrossEntropyLoss()"
      ],
      "metadata": {
        "id": "6uY0EJ-2h6Vw"
      },
      "execution_count": 20,
      "outputs": []
    },
    {
      "cell_type": "markdown",
      "source": [
        "Training CNN model over 5 epoches:"
      ],
      "metadata": {
        "id": "fd7YK1KYRlno"
      }
    },
    {
      "cell_type": "code",
      "source": [
        "numberOfEpochs = 5\n",
        "pltTrain = []\n",
        "pltVal = []\n",
        "for epochs in range(0, numberOfEpochs):\n",
        "  lossValueTrain = []\n",
        "  # for batch in trainingData:\n",
        "  for i, (images, labels) in enumerate(trainingData):\n",
        "\n",
        "    forwardValue = modelWithCNN(images)\n",
        "\n",
        "    J = lossFunction(forwardValue, labels)\n",
        "\n",
        "    modelWithCNN.zero_grad()\n",
        "\n",
        "    J.backward()\n",
        "\n",
        "    optimiser.step()\n",
        "\n",
        "    lossValueTrain.append(J.item())\n",
        "\n",
        "\n",
        "  lossValueValidation = []\n",
        "  accuracy = []\n",
        "  for i, (images, labels) in enumerate(trainingData):\n",
        "    # x, y = batch\n",
        "\n",
        "    # b = x.size(0)\n",
        "    # x = x.view(b, -1)\n",
        "\n",
        "    with torch.no_grad():\n",
        "      forwardValue = modelWithCNN(images)\n",
        "\n",
        "    J = lossFunction(forwardValue, labels)\n",
        "    \n",
        "    lossValueValidation.append(J.item())\n",
        "    accuracy.append(labels.eq(forwardValue.detach().argmax(dim = 1)).float().mean())\n",
        "\n",
        "  pltTrain.append(torch.tensor(lossValueTrain).mean())\n",
        "  pltVal.append(torch.tensor(lossValueValidation).mean())\n",
        "  print(f'Epoch Number: {epochs + 1}, train Loss: {torch.tensor(lossValueTrain).mean():.2f}, validation Loss: {torch.tensor(lossValueValidation).mean():.2f}, Validation Accuracy: {torch.tensor(accuracy).mean():.2f}')\n"
      ],
      "metadata": {
        "colab": {
          "base_uri": "https://localhost:8080/"
        },
        "id": "JiIfNMGqh6-Z",
        "outputId": "186a6f39-e26f-4dfe-9998-42324c8f6f8c"
      },
      "execution_count": 21,
      "outputs": [
        {
          "output_type": "stream",
          "name": "stdout",
          "text": [
            "Epoch Number: 1, train Loss: 0.47, validation Loss: 0.24, Validation Accuracy: 0.93\n",
            "Epoch Number: 2, train Loss: 0.21, validation Loss: 0.16, Validation Accuracy: 0.95\n",
            "Epoch Number: 3, train Loss: 0.14, validation Loss: 0.12, Validation Accuracy: 0.97\n",
            "Epoch Number: 4, train Loss: 0.11, validation Loss: 0.09, Validation Accuracy: 0.97\n",
            "Epoch Number: 5, train Loss: 0.09, validation Loss: 0.08, Validation Accuracy: 0.98\n"
          ]
        }
      ]
    },
    {
      "cell_type": "code",
      "source": [
        "plotter(pltTrain, 'train')"
      ],
      "metadata": {
        "colab": {
          "base_uri": "https://localhost:8080/",
          "height": 295
        },
        "id": "4YAB8qxJ7Xm1",
        "outputId": "eb754be1-7dda-4cbc-d5bc-b4675dc2ed5c"
      },
      "execution_count": 22,
      "outputs": [
        {
          "output_type": "display_data",
          "data": {
            "text/plain": [
              "<Figure size 432x288 with 1 Axes>"
            ],
            "image/png": "[encoded data removed]"
          },
          "metadata": {
            "needs_background": "light"
          }
        }
      ]
    },
    {
      "cell_type": "code",
      "source": [
        "plotter(pltVal, 'val')"
      ],
      "metadata": {
        "colab": {
          "base_uri": "https://localhost:8080/",
          "height": 295
        },
        "id": "FaaW6-j27YAm",
        "outputId": "2bc4d821-ae1a-41e7-bb72-c7320b6dd18b"
      },
      "execution_count": 23,
      "outputs": [
        {
          "output_type": "display_data",
          "data": {
            "text/plain": [
              "<Figure size 432x288 with 1 Axes>"
            ],
            "image/png": "[encoded data removed]"
          },
          "metadata": {
            "needs_background": "light"
          }
        }
      ]
    },
    {
      "cell_type": "markdown",
      "source": [
        "Calculating test accuracy for CNN model with one\n",
        "layer of convolutions (kernel size of 3 × 3 with a 2-D convolutional layer and having 128 filters) followed by two dense layers of 256 neurons."
      ],
      "metadata": {
        "id": "iJJGKQ7eRsVC"
      }
    },
    {
      "cell_type": "code",
      "source": [
        "accuracyTest = []\n",
        "for i, (images, labels) in enumerate(testData):\n",
        "  with torch.no_grad():\n",
        "    forwardValue = modelWithCNN(images)\n",
        "\n",
        "  accuracyTest.append(labels.eq(forwardValue.detach().argmax(dim = 1)).float().mean())\n",
        "print(f'Test Accuracy: {torch.tensor(accuracyTest).mean():.2f}')"
      ],
      "metadata": {
        "colab": {
          "base_uri": "https://localhost:8080/"
        },
        "id": "r7nVsmfUx3yw",
        "outputId": "e055e839-f277-4472-87e0-e08e2f0e355f"
      },
      "execution_count": 24,
      "outputs": [
        {
          "output_type": "stream",
          "name": "stdout",
          "text": [
            "Test Accuracy: 0.97\n"
          ]
        }
      ]
    },
    {
      "cell_type": "markdown",
      "source": [
        "Uaing filter kernel of size 5:"
      ],
      "metadata": {
        "id": "XFmIxI9rgKPb"
      }
    },
    {
      "cell_type": "code",
      "source": [
        "modelWithCNN = nn.Sequential(\n",
        "    nn.Conv2d(1, 128, kernel_size=5, stride=1, padding=2),\n",
        "    nn.ReLU(),\n",
        "    nn.Flatten(),\n",
        "    nn.Linear(100352, 256),\n",
        "    nn.ReLU(),\n",
        "    nn.Linear(256, 256),\n",
        "    nn.ReLU(),\n",
        "    nn.Linear(256, 10)\n",
        ")\n",
        "\n",
        "optimiser = optim.SGD(modelWithCNN.parameters(), lr = 1e-2)\n",
        "lossFunction = nn.CrossEntropyLoss()\n",
        "numberOfEpochs = 5\n",
        "pltTrain = []\n",
        "pltVal = []\n",
        "for epochs in range(0, numberOfEpochs):\n",
        "  lossValueTrain = []\n",
        "  # for batch in trainingData:\n",
        "  for i, (images, labels) in enumerate(trainingData):\n",
        "\n",
        "    forwardValue = modelWithCNN(images)\n",
        "\n",
        "    J = lossFunction(forwardValue, labels)\n",
        "\n",
        "    modelWithCNN.zero_grad()\n",
        "\n",
        "    J.backward()\n",
        "\n",
        "    optimiser.step()\n",
        "\n",
        "    lossValueTrain.append(J.item())\n",
        "\n",
        "\n",
        "  lossValueValidation = []\n",
        "  accuracy = []\n",
        "  for i, (images, labels) in enumerate(trainingData):\n",
        "    # x, y = batch\n",
        "\n",
        "    # b = x.size(0)\n",
        "    # x = x.view(b, -1)\n",
        "\n",
        "    with torch.no_grad():\n",
        "      forwardValue = modelWithCNN(images)\n",
        "\n",
        "    J = lossFunction(forwardValue, labels)\n",
        "    \n",
        "    lossValueValidation.append(J.item())\n",
        "    accuracy.append(labels.eq(forwardValue.detach().argmax(dim = 1)).float().mean())\n",
        "\n",
        "  pltTrain.append(torch.tensor(lossValueTrain).mean())\n",
        "  pltVal.append(torch.tensor(lossValueValidation).mean())\n",
        "  print(f'Epoch Number: {epochs + 1}, train Loss: {torch.tensor(lossValueTrain).mean():.2f}, validation Loss: {torch.tensor(lossValueValidation).mean():.2f}, Validation Accuracy: {torch.tensor(accuracy).mean():.2f}')\n",
        "\n",
        "plotter(pltTrain, 'train')\n",
        "plotter(pltVal, 'val')\n",
        "accuracyTest = []\n",
        "for i, (images, labels) in enumerate(testData):\n",
        "  with torch.no_grad():\n",
        "    forwardValue = modelWithCNN(images)\n",
        "\n",
        "  accuracyTest.append(labels.eq(forwardValue.detach().argmax(dim = 1)).float().mean())\n",
        "print(f'Test Accuracy: {torch.tensor(accuracyTest).mean():.2f}')"
      ],
      "metadata": {
        "id": "hmwbRDpIfaRc",
        "outputId": "a1b9d81a-64df-484e-c48a-06bf207c43f5",
        "colab": {
          "base_uri": "https://localhost:8080/",
          "height": 677
        }
      },
      "execution_count": 25,
      "outputs": [
        {
          "output_type": "stream",
          "name": "stdout",
          "text": [
            "Epoch Number: 1, train Loss: 0.42, validation Loss: 0.21, Validation Accuracy: 0.94\n",
            "Epoch Number: 2, train Loss: 0.18, validation Loss: 0.13, Validation Accuracy: 0.96\n",
            "Epoch Number: 3, train Loss: 0.12, validation Loss: 0.09, Validation Accuracy: 0.97\n",
            "Epoch Number: 4, train Loss: 0.09, validation Loss: 0.07, Validation Accuracy: 0.98\n",
            "Epoch Number: 5, train Loss: 0.07, validation Loss: 0.06, Validation Accuracy: 0.98\n"
          ]
        },
        {
          "output_type": "display_data",
          "data": {
            "text/plain": [
              "<Figure size 432x288 with 1 Axes>"
            ],
            "image/png": "[encoded data removed]"
          },
          "metadata": {
            "needs_background": "light"
          }
        },
        {
          "output_type": "display_data",
          "data": {
            "text/plain": [
              "<Figure size 432x288 with 1 Axes>"
            ],
            "image/png": "[encoded data removed]"
          },
          "metadata": {
            "needs_background": "light"
          }
        },
        {
          "output_type": "stream",
          "name": "stdout",
          "text": [
            "Test Accuracy: 0.97\n"
          ]
        }
      ]
    },
    {
      "cell_type": "markdown",
      "source": [
        "Changing kernel filter size to 7:"
      ],
      "metadata": {
        "id": "-kHHMhE_gHMe"
      }
    },
    {
      "cell_type": "code",
      "source": [
        "modelWithCNN = nn.Sequential(\n",
        "    nn.Conv2d(1, 128, kernel_size=7, stride=1, padding=3),\n",
        "    nn.ReLU(),\n",
        "    nn.Flatten(),\n",
        "    nn.Linear(100352, 256),\n",
        "    nn.ReLU(),\n",
        "    nn.Linear(256, 256),\n",
        "    nn.ReLU(),\n",
        "    nn.Linear(256, 10)\n",
        ")\n",
        "\n",
        "optimiser = optim.SGD(modelWithCNN.parameters(), lr = 1e-2)\n",
        "lossFunction = nn.CrossEntropyLoss()\n",
        "numberOfEpochs = 5\n",
        "pltTrain = []\n",
        "pltVal = []\n",
        "for epochs in range(0, numberOfEpochs):\n",
        "  lossValueTrain = []\n",
        "  # for batch in trainingData:\n",
        "  for i, (images, labels) in enumerate(trainingData):\n",
        "\n",
        "    forwardValue = modelWithCNN(images)\n",
        "\n",
        "    J = lossFunction(forwardValue, labels)\n",
        "\n",
        "    modelWithCNN.zero_grad()\n",
        "\n",
        "    J.backward()\n",
        "\n",
        "    optimiser.step()\n",
        "\n",
        "    lossValueTrain.append(J.item())\n",
        "\n",
        "\n",
        "  lossValueValidation = []\n",
        "  accuracy = []\n",
        "  for i, (images, labels) in enumerate(trainingData):\n",
        "    # x, y = batch\n",
        "\n",
        "    # b = x.size(0)\n",
        "    # x = x.view(b, -1)\n",
        "\n",
        "    with torch.no_grad():\n",
        "      forwardValue = modelWithCNN(images)\n",
        "\n",
        "    J = lossFunction(forwardValue, labels)\n",
        "    \n",
        "    lossValueValidation.append(J.item())\n",
        "    accuracy.append(labels.eq(forwardValue.detach().argmax(dim = 1)).float().mean())\n",
        "\n",
        "  pltTrain.append(torch.tensor(lossValueTrain).mean())\n",
        "  pltVal.append(torch.tensor(lossValueValidation).mean())\n",
        "  print(f'Epoch Number: {epochs + 1}, train Loss: {torch.tensor(lossValueTrain).mean():.2f}, validation Loss: {torch.tensor(lossValueValidation).mean():.2f}, Validation Accuracy: {torch.tensor(accuracy).mean():.2f}')\n",
        "\n",
        "plotter(pltTrain, 'train')\n",
        "plotter(pltVal, 'val')\n",
        "accuracyTest = []\n",
        "for i, (images, labels) in enumerate(testData):\n",
        "  with torch.no_grad():\n",
        "    forwardValue = modelWithCNN(images)\n",
        "\n",
        "  accuracyTest.append(labels.eq(forwardValue.detach().argmax(dim = 1)).float().mean())\n",
        "print(f'Test Accuracy: {torch.tensor(accuracyTest).mean():.2f}')"
      ],
      "metadata": {
        "id": "COAIKRtggCUm",
        "outputId": "0f6b3208-6762-4830-9648-d95090650af8",
        "colab": {
          "base_uri": "https://localhost:8080/",
          "height": 677
        }
      },
      "execution_count": 26,
      "outputs": [
        {
          "output_type": "stream",
          "name": "stdout",
          "text": [
            "Epoch Number: 1, train Loss: 0.45, validation Loss: 0.21, Validation Accuracy: 0.94\n",
            "Epoch Number: 2, train Loss: 0.18, validation Loss: 0.13, Validation Accuracy: 0.96\n",
            "Epoch Number: 3, train Loss: 0.12, validation Loss: 0.09, Validation Accuracy: 0.97\n",
            "Epoch Number: 4, train Loss: 0.08, validation Loss: 0.07, Validation Accuracy: 0.98\n",
            "Epoch Number: 5, train Loss: 0.07, validation Loss: 0.05, Validation Accuracy: 0.98\n"
          ]
        },
        {
          "output_type": "display_data",
          "data": {
            "text/plain": [
              "<Figure size 432x288 with 1 Axes>"
            ],
            "image/png": "[encoded data removed]"
          },
          "metadata": {
            "needs_background": "light"
          }
        },
        {
          "output_type": "display_data",
          "data": {
            "text/plain": [
              "<Figure size 432x288 with 1 Axes>"
            ],
            "image/png": "[encoded data removed]"
          },
          "metadata": {
            "needs_background": "light"
          }
        },
        {
          "output_type": "stream",
          "name": "stdout",
          "text": [
            "Test Accuracy: 0.98\n"
          ]
        }
      ]
    },
    {
      "cell_type": "markdown",
      "source": [
        "Chaning the dense layer to 128 neurons after convolution layer:"
      ],
      "metadata": {
        "id": "PWqs_cftSCqh"
      }
    },
    {
      "cell_type": "code",
      "source": [
        "modelWithCNN = nn.Sequential(\n",
        "    nn.Conv2d(1, 128, kernel_size=3, stride=1, padding=1),\n",
        "    nn.ReLU(),\n",
        "    nn.Flatten(),\n",
        "    nn.Linear(100352, 128),\n",
        "    nn.ReLU(),\n",
        "    nn.Linear(128, 128),\n",
        "    nn.ReLU(),\n",
        "    nn.Linear(128, 10)\n",
        ")\n",
        "\n",
        "optimiser = optim.SGD(modelWithCNN.parameters(), lr = 1e-2)\n",
        "lossFunction = nn.CrossEntropyLoss()\n",
        "numberOfEpochs = 5\n",
        "pltTrain = []\n",
        "pltVal = []\n",
        "for epochs in range(0, numberOfEpochs):\n",
        "  lossValueTrain = []\n",
        "  # for batch in trainingData:\n",
        "  for i, (images, labels) in enumerate(trainingData):\n",
        "\n",
        "    forwardValue = modelWithCNN(images)\n",
        "\n",
        "    J = lossFunction(forwardValue, labels)\n",
        "\n",
        "    modelWithCNN.zero_grad()\n",
        "\n",
        "    J.backward()\n",
        "\n",
        "    optimiser.step()\n",
        "\n",
        "    lossValueTrain.append(J.item())\n",
        "\n",
        "\n",
        "  lossValueValidation = []\n",
        "  accuracy = []\n",
        "  for i, (images, labels) in enumerate(trainingData):\n",
        "    # x, y = batch\n",
        "\n",
        "    # b = x.size(0)\n",
        "    # x = x.view(b, -1)\n",
        "\n",
        "    with torch.no_grad():\n",
        "      forwardValue = modelWithCNN(images)\n",
        "\n",
        "    J = lossFunction(forwardValue, labels)\n",
        "    \n",
        "    lossValueValidation.append(J.item())\n",
        "    accuracy.append(labels.eq(forwardValue.detach().argmax(dim = 1)).float().mean())\n",
        "\n",
        "  pltTrain.append(torch.tensor(lossValueTrain).mean())\n",
        "  pltVal.append(torch.tensor(lossValueValidation).mean())\n",
        "  print(f'Epoch Number: {epochs + 1}, train Loss: {torch.tensor(lossValueTrain).mean():.2f}, validation Loss: {torch.tensor(lossValueValidation).mean():.2f}, Validation Accuracy: {torch.tensor(accuracy).mean():.2f}')\n",
        "\n",
        "plotter(pltTrain, 'train')\n",
        "plotter(pltVal, 'val')\n",
        "accuracyTest = []\n",
        "for i, (images, labels) in enumerate(testData):\n",
        "  with torch.no_grad():\n",
        "    forwardValue = modelWithCNN(images)\n",
        "\n",
        "  accuracyTest.append(labels.eq(forwardValue.detach().argmax(dim = 1)).float().mean())\n",
        "print(f'Test Accuracy: {torch.tensor(accuracyTest).mean():.2f}')"
      ],
      "metadata": {
        "id": "JAR-y0vdgQzF",
        "outputId": "c46639c4-9a7c-4a67-a7bb-54cb3b711976",
        "colab": {
          "base_uri": "https://localhost:8080/",
          "height": 677
        }
      },
      "execution_count": 27,
      "outputs": [
        {
          "output_type": "stream",
          "name": "stdout",
          "text": [
            "Epoch Number: 1, train Loss: 0.49, validation Loss: 0.25, Validation Accuracy: 0.93\n",
            "Epoch Number: 2, train Loss: 0.22, validation Loss: 0.17, Validation Accuracy: 0.95\n",
            "Epoch Number: 3, train Loss: 0.16, validation Loss: 0.13, Validation Accuracy: 0.96\n",
            "Epoch Number: 4, train Loss: 0.12, validation Loss: 0.10, Validation Accuracy: 0.97\n",
            "Epoch Number: 5, train Loss: 0.10, validation Loss: 0.08, Validation Accuracy: 0.98\n"
          ]
        },
        {
          "output_type": "display_data",
          "data": {
            "text/plain": [
              "<Figure size 432x288 with 1 Axes>"
            ],
            "image/png": "[encoded data removed]"
          },
          "metadata": {
            "needs_background": "light"
          }
        },
        {
          "output_type": "display_data",
          "data": {
            "text/plain": [
              "<Figure size 432x288 with 1 Axes>"
            ],
            "image/png": "[encoded data removed]"
          },
          "metadata": {
            "needs_background": "light"
          }
        },
        {
          "output_type": "stream",
          "name": "stdout",
          "text": [
            "Test Accuracy: 0.97\n"
          ]
        }
      ]
    },
    {
      "cell_type": "markdown",
      "source": [
        "Changing the dense layer to 512 neurons after the convolution layer:"
      ],
      "metadata": {
        "id": "O0vGOtPoSJrT"
      }
    },
    {
      "cell_type": "code",
      "source": [
        "modelWithCNN = nn.Sequential(\n",
        "    nn.Conv2d(1, 128, kernel_size=3, stride=1, padding=1),\n",
        "    nn.ReLU(),\n",
        "    nn.Flatten(),\n",
        "    nn.Linear(100352, 512),\n",
        "    nn.ReLU(),\n",
        "    nn.Linear(512, 512),\n",
        "    nn.ReLU(),\n",
        "    nn.Linear(512, 10)\n",
        ")\n",
        "\n",
        "optimiser = optim.SGD(modelWithCNN.parameters(), lr = 1e-2)\n",
        "lossFunction = nn.CrossEntropyLoss()\n",
        "numberOfEpochs = 5\n",
        "pltTrain = []\n",
        "pltVal = []\n",
        "for epochs in range(0, numberOfEpochs):\n",
        "  lossValueTrain = []\n",
        "  # for batch in trainingData:\n",
        "  for i, (images, labels) in enumerate(trainingData):\n",
        "\n",
        "    forwardValue = modelWithCNN(images)\n",
        "\n",
        "    J = lossFunction(forwardValue, labels)\n",
        "\n",
        "    modelWithCNN.zero_grad()\n",
        "\n",
        "    J.backward()\n",
        "\n",
        "    optimiser.step()\n",
        "\n",
        "    lossValueTrain.append(J.item())\n",
        "\n",
        "\n",
        "  lossValueValidation = []\n",
        "  accuracy = []\n",
        "  for i, (images, labels) in enumerate(trainingData):\n",
        "    # x, y = batch\n",
        "\n",
        "    # b = x.size(0)\n",
        "    # x = x.view(b, -1)\n",
        "\n",
        "    with torch.no_grad():\n",
        "      forwardValue = modelWithCNN(images)\n",
        "\n",
        "    J = lossFunction(forwardValue, labels)\n",
        "    \n",
        "    lossValueValidation.append(J.item())\n",
        "    accuracy.append(labels.eq(forwardValue.detach().argmax(dim = 1)).float().mean())\n",
        "\n",
        "  pltTrain.append(torch.tensor(lossValueTrain).mean())\n",
        "  pltVal.append(torch.tensor(lossValueValidation).mean())\n",
        "  print(f'Epoch Number: {epochs + 1}, train Loss: {torch.tensor(lossValueTrain).mean():.2f}, validation Loss: {torch.tensor(lossValueValidation).mean():.2f}, Validation Accuracy: {torch.tensor(accuracy).mean():.2f}')\n",
        "\n",
        "plotter(pltTrain, 'train')\n",
        "plotter(pltVal, 'val')\n",
        "accuracyTest = []\n",
        "for i, (images, labels) in enumerate(testData):\n",
        "  with torch.no_grad():\n",
        "    forwardValue = modelWithCNN(images)\n",
        "\n",
        "  accuracyTest.append(labels.eq(forwardValue.detach().argmax(dim = 1)).float().mean())\n",
        "print(f'Test Accuracy: {torch.tensor(accuracyTest).mean():.2f}')"
      ],
      "metadata": {
        "id": "oozG1o_kjifU",
        "outputId": "dfd9598f-4803-4aa3-df7e-1e0b1977b4dc",
        "colab": {
          "base_uri": "https://localhost:8080/",
          "height": 677
        }
      },
      "execution_count": 28,
      "outputs": [
        {
          "output_type": "stream",
          "name": "stdout",
          "text": [
            "Epoch Number: 1, train Loss: 0.46, validation Loss: 0.23, Validation Accuracy: 0.93\n",
            "Epoch Number: 2, train Loss: 0.20, validation Loss: 0.15, Validation Accuracy: 0.96\n",
            "Epoch Number: 3, train Loss: 0.14, validation Loss: 0.11, Validation Accuracy: 0.97\n",
            "Epoch Number: 4, train Loss: 0.10, validation Loss: 0.09, Validation Accuracy: 0.97\n",
            "Epoch Number: 5, train Loss: 0.08, validation Loss: 0.07, Validation Accuracy: 0.98\n"
          ]
        },
        {
          "output_type": "display_data",
          "data": {
            "text/plain": [
              "<Figure size 432x288 with 1 Axes>"
            ],
            "image/png": "[encoded data removed]"
          },
          "metadata": {
            "needs_background": "light"
          }
        },
        {
          "output_type": "display_data",
          "data": {
            "text/plain": [
              "<Figure size 432x288 with 1 Axes>"
            ],
            "image/png": "[encoded data removed]"
          },
          "metadata": {
            "needs_background": "light"
          }
        },
        {
          "output_type": "stream",
          "name": "stdout",
          "text": [
            "Test Accuracy: 0.97\n"
          ]
        }
      ]
    },
    {
      "cell_type": "markdown",
      "source": [
        "Training CNN takes much more time as compared to DNN. "
      ],
      "metadata": {
        "id": "QehszqHacd9x"
      }
    },
    {
      "cell_type": "markdown",
      "source": [
        "# The test accuracy increased in CNN by large margin even when compared to DNN with 3 hidden layers and more neurons \n",
        "# In case of CNN increasing the kernel filter size increased the accuracy but there was less change upon increasing the number of neurons in Dense hidden layer in CNN. Ideally accuracy should increase with both increase in number of neurons and kernel size as the model complexity increases. "
      ],
      "metadata": {
        "id": "ApL3zC_fbbqm"
      }
    }
  ]
}